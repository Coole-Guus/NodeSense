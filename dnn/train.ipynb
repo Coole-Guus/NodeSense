{
 "cells": [
  {
   "cell_type": "code",
   "execution_count": 1,
   "metadata": {},
   "outputs": [
    {
     "name": "stdout",
     "output_type": "stream",
     "text": [
      "Requirement already satisfied: pandas in /home/guus/vscodeProjects/api-multi-label-classification/.venv/lib/python3.10/site-packages (2.2.3)\n",
      "Requirement already satisfied: torch in /home/guus/vscodeProjects/api-multi-label-classification/.venv/lib/python3.10/site-packages (2.5.1)\n",
      "Requirement already satisfied: numpy in /home/guus/vscodeProjects/api-multi-label-classification/.venv/lib/python3.10/site-packages (2.0.2)\n",
      "Requirement already satisfied: scikit-learn in /home/guus/vscodeProjects/api-multi-label-classification/.venv/lib/python3.10/site-packages (1.5.2)\n",
      "Requirement already satisfied: python-dateutil>=2.8.2 in /home/guus/vscodeProjects/api-multi-label-classification/.venv/lib/python3.10/site-packages (from pandas) (2.9.0.post0)\n",
      "Requirement already satisfied: pytz>=2020.1 in /home/guus/vscodeProjects/api-multi-label-classification/.venv/lib/python3.10/site-packages (from pandas) (2024.2)\n",
      "Requirement already satisfied: tzdata>=2022.7 in /home/guus/vscodeProjects/api-multi-label-classification/.venv/lib/python3.10/site-packages (from pandas) (2024.2)\n",
      "Requirement already satisfied: filelock in /home/guus/vscodeProjects/api-multi-label-classification/.venv/lib/python3.10/site-packages (from torch) (3.16.1)\n",
      "Requirement already satisfied: typing-extensions>=4.8.0 in /home/guus/vscodeProjects/api-multi-label-classification/.venv/lib/python3.10/site-packages (from torch) (4.12.2)\n",
      "Requirement already satisfied: networkx in /home/guus/vscodeProjects/api-multi-label-classification/.venv/lib/python3.10/site-packages (from torch) (3.4.2)\n",
      "Requirement already satisfied: jinja2 in /home/guus/vscodeProjects/api-multi-label-classification/.venv/lib/python3.10/site-packages (from torch) (3.1.4)\n",
      "Requirement already satisfied: fsspec in /home/guus/vscodeProjects/api-multi-label-classification/.venv/lib/python3.10/site-packages (from torch) (2024.10.0)\n",
      "Requirement already satisfied: nvidia-cuda-nvrtc-cu12==12.4.127 in /home/guus/vscodeProjects/api-multi-label-classification/.venv/lib/python3.10/site-packages (from torch) (12.4.127)\n",
      "Requirement already satisfied: nvidia-cuda-runtime-cu12==12.4.127 in /home/guus/vscodeProjects/api-multi-label-classification/.venv/lib/python3.10/site-packages (from torch) (12.4.127)\n",
      "Requirement already satisfied: nvidia-cuda-cupti-cu12==12.4.127 in /home/guus/vscodeProjects/api-multi-label-classification/.venv/lib/python3.10/site-packages (from torch) (12.4.127)\n",
      "Requirement already satisfied: nvidia-cudnn-cu12==9.1.0.70 in /home/guus/vscodeProjects/api-multi-label-classification/.venv/lib/python3.10/site-packages (from torch) (9.1.0.70)\n",
      "Requirement already satisfied: nvidia-cublas-cu12==12.4.5.8 in /home/guus/vscodeProjects/api-multi-label-classification/.venv/lib/python3.10/site-packages (from torch) (12.4.5.8)\n",
      "Requirement already satisfied: nvidia-cufft-cu12==11.2.1.3 in /home/guus/vscodeProjects/api-multi-label-classification/.venv/lib/python3.10/site-packages (from torch) (11.2.1.3)\n",
      "Requirement already satisfied: nvidia-curand-cu12==10.3.5.147 in /home/guus/vscodeProjects/api-multi-label-classification/.venv/lib/python3.10/site-packages (from torch) (10.3.5.147)\n",
      "Requirement already satisfied: nvidia-cusolver-cu12==11.6.1.9 in /home/guus/vscodeProjects/api-multi-label-classification/.venv/lib/python3.10/site-packages (from torch) (11.6.1.9)\n",
      "Requirement already satisfied: nvidia-cusparse-cu12==12.3.1.170 in /home/guus/vscodeProjects/api-multi-label-classification/.venv/lib/python3.10/site-packages (from torch) (12.3.1.170)\n",
      "Requirement already satisfied: nvidia-nccl-cu12==2.21.5 in /home/guus/vscodeProjects/api-multi-label-classification/.venv/lib/python3.10/site-packages (from torch) (2.21.5)\n",
      "Requirement already satisfied: nvidia-nvtx-cu12==12.4.127 in /home/guus/vscodeProjects/api-multi-label-classification/.venv/lib/python3.10/site-packages (from torch) (12.4.127)\n",
      "Requirement already satisfied: nvidia-nvjitlink-cu12==12.4.127 in /home/guus/vscodeProjects/api-multi-label-classification/.venv/lib/python3.10/site-packages (from torch) (12.4.127)\n",
      "Requirement already satisfied: triton==3.1.0 in /home/guus/vscodeProjects/api-multi-label-classification/.venv/lib/python3.10/site-packages (from torch) (3.1.0)\n",
      "Requirement already satisfied: sympy==1.13.1 in /home/guus/vscodeProjects/api-multi-label-classification/.venv/lib/python3.10/site-packages (from torch) (1.13.1)\n",
      "Requirement already satisfied: mpmath<1.4,>=1.1.0 in /home/guus/vscodeProjects/api-multi-label-classification/.venv/lib/python3.10/site-packages (from sympy==1.13.1->torch) (1.3.0)\n",
      "Requirement already satisfied: scipy>=1.6.0 in /home/guus/vscodeProjects/api-multi-label-classification/.venv/lib/python3.10/site-packages (from scikit-learn) (1.14.1)\n",
      "Requirement already satisfied: joblib>=1.2.0 in /home/guus/vscodeProjects/api-multi-label-classification/.venv/lib/python3.10/site-packages (from scikit-learn) (1.4.2)\n",
      "Requirement already satisfied: threadpoolctl>=3.1.0 in /home/guus/vscodeProjects/api-multi-label-classification/.venv/lib/python3.10/site-packages (from scikit-learn) (3.5.0)\n",
      "Requirement already satisfied: six>=1.5 in /home/guus/vscodeProjects/api-multi-label-classification/.venv/lib/python3.10/site-packages (from python-dateutil>=2.8.2->pandas) (1.17.0)\n",
      "Requirement already satisfied: MarkupSafe>=2.0 in /home/guus/vscodeProjects/api-multi-label-classification/.venv/lib/python3.10/site-packages (from jinja2->torch) (3.0.2)\n",
      "Note: you may need to restart the kernel to use updated packages.\n"
     ]
    }
   ],
   "source": [
    "%pip install pandas torch numpy scikit-learn"
   ]
  },
  {
   "cell_type": "code",
   "execution_count": 2,
   "metadata": {},
   "outputs": [],
   "source": [
    "import pandas as pd\n",
    "df = pd.read_csv(\"data.csv\")"
   ]
  },
  {
   "cell_type": "code",
   "execution_count": null,
   "metadata": {},
   "outputs": [
    {
     "name": "stderr",
     "output_type": "stream",
     "text": [
      "INFO: Downloading ['all', 'index']. Index is being stored in /home/guus/vscodeProjects/api-multi-label-classification/.venv/lib/python3.10/site-packages/soundata/datasets/indexes, and the rest of files in /home/guus/sound_datasets/urbansound8k\n",
      "INFO: [all] downloading UrbanSound8K.tar.gz\n",
      "INFO: /home/guus/sound_datasets/urbansound8k/UrbanSound8K.tar.gz already exists and will not be downloaded. Rerun with force_overwrite=True to delete this file and force the download.\n",
      "INFO: /home/guus/sound_datasets/urbansound8k/UrbanSound8K_README.txt already exists. Run with force_overwrite=True to download from scratch\n",
      "INFO: /home/guus/sound_datasets/urbansound8k/metadata already exists. Run with force_overwrite=True to download from scratch\n",
      "INFO: /home/guus/sound_datasets/urbansound8k/FREESOUNDCREDITS.txt already exists. Run with force_overwrite=True to download from scratch\n",
      "INFO: /home/guus/sound_datasets/urbansound8k/audio already exists. Run with force_overwrite=True to download from scratch\n",
      "INFO: [index] downloading urbansound8k_index_1.0.json\n",
      "INFO: /home/guus/vscodeProjects/api-multi-label-classification/.venv/lib/python3.10/site-packages/soundata/datasets/indexes/urbansound8k_index_1.0.json already exists and will not be downloaded. Rerun with force_overwrite=True to delete this file and force the download.\n",
      "100%|██████████| 1/1 [00:00<00:00, 569.03it/s]\n",
      "100%|██████████| 8732/8732 [00:19<00:00, 454.33it/s]\n",
      "INFO: Success: the dataset is complete and all files are valid.\n",
      "INFO: --------------------\n"
     ]
    },
    {
     "data": {
      "text/plain": [
       "({'metadata': {}, 'clips': {}}, {'metadata': {}, 'clips': {}})"
      ]
     },
     "execution_count": 3,
     "metadata": {},
     "output_type": "execute_result"
    },
    {
     "ename": "",
     "evalue": "",
     "output_type": "error",
     "traceback": [
      "\u001b[1;31mThe Kernel crashed while executing code in the current cell or a previous cell. \n",
      "\u001b[1;31mPlease review the code in the cell(s) to identify a possible cause of the failure. \n",
      "\u001b[1;31mClick <a href='https://aka.ms/vscodeJupyterKernelCrash'>here</a> for more info. \n",
      "\u001b[1;31mView Jupyter <a href='command:jupyter.viewOutput'>log</a> for further details."
     ]
    }
   ],
   "source": [
    "import soundata\n",
    "import numpy as np\n",
    "np.float_ = np.float64\n",
    "\n",
    "dataset = soundata.initialize('urbansound8k')\n",
    "dataset.download()\n",
    "dataset.validate()"
   ]
  },
  {
   "cell_type": "code",
   "execution_count": null,
   "metadata": {},
   "outputs": [
    {
     "name": "stdout",
     "output_type": "stream",
     "text": [
      "Fold 1\n"
     ]
    }
   ],
   "source": [
    "import numpy as np\n",
    "import pandas as pd\n",
    "from sklearn.model_selection import KFold\n",
    "from sklearn.ensemble import RandomForestClassifier\n",
    "from sklearn.metrics import accuracy_score\n",
    "\n",
    "df['Fold'] = df['AudioPath'].apply(lambda x: int(x.split('/')[-2].replace('fold', '')))\n",
    "\n",
    "spectrograms = np.array(df['Spectrogram'].tolist())\n",
    "lengths = np.array([len(s) for s in spectrograms])\n",
    "max_length = max(lengths)\n",
    "\n",
    "X = np.array([np.pad(s, (0, max_length - len(s)), mode='constant') for s in spectrograms])\n",
    "y = np.array([clip.tags.labels[0] for key, clip in dataset.load_clips().items()])\n",
    "\n",
    "accuracies = []\n",
    "\n",
    "for fold in range(1, 11):\n",
    "    print(f'Fold {fold}')\n",
    "    train_index = df[df['Fold'] != fold].index\n",
    "    test_index = df[df['Fold'] == fold].index\n",
    "\n",
    "    X_train, X_test = X[train_index], X[test_index]\n",
    "    y_train, y_test = y[train_index], y[test_index]\n",
    "\n",
    "    clf = RandomForestClassifier()\n",
    "    clf.fit(X_train, y_train)\n",
    "\n",
    "    y_pred = clf.predict(X_test)\n",
    "    accuracy = accuracy_score(y_test, y_pred)\n",
    "    accuracies.append(accuracy)\n",
    "\n",
    "print(f'Mean accuracy: {np.mean(accuracies)}')"
   ]
  }
 ],
 "metadata": {
  "kernelspec": {
   "display_name": ".venv",
   "language": "python",
   "name": "python3"
  },
  "language_info": {
   "codemirror_mode": {
    "name": "ipython",
    "version": 3
   },
   "file_extension": ".py",
   "mimetype": "text/x-python",
   "name": "python",
   "nbconvert_exporter": "python",
   "pygments_lexer": "ipython3",
   "version": "3.10.12"
  }
 },
 "nbformat": 4,
 "nbformat_minor": 2
}
